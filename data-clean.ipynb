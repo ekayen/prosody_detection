{
 "cells": [
  {
   "cell_type": "markdown",
   "metadata": {},
   "source": [
    "# Data preparation\n",
    "\n",
    "#### Current format: \n",
    "Tokens each have an xml entry in their phonwords file. \n",
    "Accents each have an xml entry in their accents file.\n",
    "Turns have are in their own files, and are recorded as time spans. The time span of a phonword is somewhere inside the time span of a turn.\n",
    "\n",
    "Note: Each file is per-speaker, not per-turn or per-conversation.\n",
    "\n",
    "#### Desired format:\n",
    "One turn per line, whitespace-separated tokens, tab, binary string with 1 for nuclear pitch accent."
   ]
  },
  {
   "cell_type": "markdown",
   "metadata": {},
   "source": [
    "##### Find files:"
   ]
  },
  {
   "cell_type": "code",
   "execution_count": 57,
   "metadata": {},
   "outputs": [],
   "source": [
    "import os\n",
    "\n",
    "data_dir = '/afs/inf.ed.ac.uk/group/corpora/large/switchboard/nxt/xml'\n",
    "\n",
    "\n",
    "dialog_num = 'sw2018'\n",
    "users = ('A','B')\n",
    "turn_files = [os.path.join(data_dir,'turns','.'.join([dialog_num,user,'turns','xml'])) for user in users]\n",
    "acc_files = [os.path.join(data_dir,'accent','.'.join([dialog_num,user,'accents','xml'])) for user in users]\n",
    "wd_files = [os.path.join(data_dir,'phonwords','.'.join([dialog_num,user,'phonwords','xml'])) for user in users]"
   ]
  },
  {
   "cell_type": "code",
   "execution_count": 82,
   "metadata": {},
   "outputs": [
    {
     "name": "stdout",
     "output_type": "stream",
     "text": [
      "['hello', 'this', 'is', 'Lois', 'and']\n"
     ]
    }
   ],
   "source": [
    "import numpy as np\n",
    "import xml.etree.ElementTree as ET\n",
    "nite = '{http://nite.sourceforge.net/}'\n",
    "\n",
    "accent_dict = {'nuclear':1,\n",
    "               'plain':0,\n",
    "               'pre-nuclear':0}\n",
    "\n",
    "words = []\n",
    "words_i = []\n",
    "ids = []\n",
    "times = []\n",
    "speaker = []\n",
    "wd_to_i = {}\n",
    "i_to_wd = {}\n",
    "id_to_acc = {}\n",
    "counter = 0\n",
    "for i,wd_file in enumerate(wd_files):\n",
    "    if os.path.exists(acc_files[i]): # only pay attention to ones that have accent files\n",
    "        wd_tree = ET.parse(wd_file)\n",
    "        wd_root = wd_tree.getroot()\n",
    "        for phonword in wd_root.findall('phonword'):\n",
    "            orth = phonword.attrib['orth']\n",
    "            id_num = phonword.attrib[nite+'id']\n",
    "            start_time = phonword.attrib[nite+'start']\n",
    "            if not orth in wd_to_i:\n",
    "                wd_to_i[orth] = counter\n",
    "                i_to_wd[counter] = orth\n",
    "                counter += 1\n",
    "            words.append(wd_to_i[orth])\n",
    "            ids.append(id_num) # TODO since these ids are unique, I can make a lookup table for them too for speed\n",
    "            times.append(start_time)\n",
    "            if i == 0:\n",
    "                speaker.append('A')\n",
    "            else:\n",
    "                speaker.append('B')\n",
    "                \n",
    "        acc_tree = ET.parse(acc_files[i])\n",
    "        acc_root = acc_tree.getroot()\n",
    "        for acc in acc_root.findall('accent'):\n",
    "            for chld in acc:\n",
    "                acc_id = chld.attrib['href'].split('(')[-1][:-1]\n",
    "                id_to_acc[acc_id]=accent_dict[acc.attrib['type']]\n",
    "    else:\n",
    "        print('no accent file found')\n",
    "        \n",
    "            \n",
    "print([i_to_wd[i] for i in words[:5]])\n"
   ]
  },
  {
   "cell_type": "markdown",
   "metadata": {},
   "source": [
    "### Make np array of accents"
   ]
  },
  {
   "cell_type": "code",
   "execution_count": 113,
   "metadata": {},
   "outputs": [
    {
     "data": {
      "text/plain": [
       "array([524,   0, 525, ..., 703, 142, 143])"
      ]
     },
     "execution_count": 113,
     "metadata": {},
     "output_type": "execute_result"
    }
   ],
   "source": [
    "words = np.array(words)\n",
    "times = np.array(times) \n",
    "ordering = np.argsort(times)\n",
    "\n",
    "ordering"
   ]
  },
  {
   "cell_type": "code",
   "execution_count": 99,
   "metadata": {},
   "outputs": [
    {
     "data": {
      "text/plain": [
       "array([1., 0., 0., ..., 1., 0., 1.])"
      ]
     },
     "execution_count": 99,
     "metadata": {},
     "output_type": "execute_result"
    }
   ],
   "source": [
    "accents = np.zeros(words.shape)\n",
    "\n",
    "for i in range(words.shape[0]):\n",
    "    id_num = ids[i]\n",
    "    if id_num in id_to_acc:\n",
    "        accents[i] = id_to_acc[id_num]\n",
    "    else:\n",
    "        accents[i] = 0\n",
    "    \n",
    "accents"
   ]
  },
  {
   "cell_type": "markdown",
   "metadata": {},
   "source": [
    "### Iterate through turns, writing the final form out turn by turn"
   ]
  },
  {
   "cell_type": "code",
   "execution_count": 112,
   "metadata": {},
   "outputs": [
    {
     "data": {
      "text/plain": [
       "('t1', '0.29625', '0.76')"
      ]
     },
     "execution_count": 112,
     "metadata": {},
     "output_type": "execute_result"
    }
   ],
   "source": [
    "turns_a = [(child.attrib[nite+'id'], child.attrib[nite+'start'], child.attrib[nite+'end']) for child in ET.parse(turn_files[0]).getroot()]\n",
    "turns_b = [(child.attrib[nite+'id'], child.attrib[nite+'start'], child.attrib[nite+'end']) for child in ET.parse(turn_files[1]).getroot()]\n",
    "turns_b[0]"
   ]
  },
  {
   "cell_type": "code",
   "execution_count": null,
   "metadata": {},
   "outputs": [],
   "source": [
    "for i in range(words.shape[0]):\n",
    "    "
   ]
  }
 ],
 "metadata": {
  "kernelspec": {
   "display_name": "Python 3",
   "language": "python",
   "name": "python3"
  },
  "language_info": {
   "codemirror_mode": {
    "name": "ipython",
    "version": 3
   },
   "file_extension": ".py",
   "mimetype": "text/x-python",
   "name": "python",
   "nbconvert_exporter": "python",
   "pygments_lexer": "ipython3",
   "version": "3.6.8"
  }
 },
 "nbformat": 4,
 "nbformat_minor": 2
}
