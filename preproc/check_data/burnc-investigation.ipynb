{
 "cells": [
  {
   "cell_type": "markdown",
   "metadata": {},
   "source": [
    "Investigate the average length of utterances in BURNC with various segmentation techniques"
   ]
  },
  {
   "cell_type": "code",
   "execution_count": 1,
   "metadata": {},
   "outputs": [],
   "source": [
    "import pandas as pd\n",
    "import matplotlib.pyplot as plt\n",
    "import math\n",
    "import numpy as np"
   ]
  },
  {
   "cell_type": "code",
   "execution_count": 2,
   "metadata": {},
   "outputs": [],
   "source": [
    "brthsentfile = 'data/burnc/text2labels_breath_sent'\n",
    "brthfile = 'data/burnc/text2labels_breath_tok'\n",
    "datafile = 'data/burnc/text2labels'"
   ]
  },
  {
   "cell_type": "code",
   "execution_count": 3,
   "metadata": {},
   "outputs": [],
   "source": [
    "brth_sent_df = pd.read_csv(brthsentfile,sep='\\t',header=None)\n",
    "brth_df = pd.read_csv(brthfile,sep='\\t',header=None)\n",
    "df = pd.read_csv(datafile,sep='\\t',header=None)"
   ]
  },
  {
   "cell_type": "code",
   "execution_count": 4,
   "metadata": {},
   "outputs": [],
   "source": [
    "brth_sent_text = [line.split() for line in brth_sent_df[1].tolist()]\n",
    "brth_text = [line.split() for line in brth_df[1].tolist()]\n",
    "text = [line.split() for line in df[1].tolist()]"
   ]
  },
  {
   "cell_type": "code",
   "execution_count": 5,
   "metadata": {
    "scrolled": true
   },
   "outputs": [
    {
     "name": "stdout",
     "output_type": "stream",
     "text": [
      "Length of utterancess with breath tokenziation\n"
     ]
    },
    {
     "data": {
      "image/png": "[encoded data removed]",
      "text/plain": [
       "<Figure size 432x288 with 1 Axes>"
      ]
     },
     "metadata": {
      "needs_background": "light"
     },
     "output_type": "display_data"
    },
    {
     "name": "stdout",
     "output_type": "stream",
     "text": [
      "average len: 16.574320416425678\n",
      "median len: 15.0\n",
      "max len: 83\n",
      "\n",
      "\n",
      "Length of utterances with punctuation + breath tokenziation\n"
     ]
    },
    {
     "data": {
      "image/png": "[encoded data removed]",
      "text/plain": [
       "<Figure size 432x288 with 1 Axes>"
      ]
     },
     "metadata": {
      "needs_background": "light"
     },
     "output_type": "display_data"
    },
    {
     "name": "stdout",
     "output_type": "stream",
     "text": [
      "average len: 21.274684484038605\n",
      "median len: 20.0\n",
      "max len: 113\n",
      "\n",
      "\n",
      "Length of utterances with punctuation OR breath tokenziation\n"
     ]
    },
    {
     "data": {
      "image/png": "[encoded data removed]",
      "text/plain": [
       "<Figure size 432x288 with 1 Axes>"
      ]
     },
     "metadata": {
      "needs_background": "light"
     },
     "output_type": "display_data"
    },
    {
     "name": "stdout",
     "output_type": "stream",
     "text": [
      "average len: 11.494985960689931\n",
      "median len: 11.0\n",
      "max len: 51\n"
     ]
    }
   ],
   "source": [
    "brth_sent_lens = np.array([len(text) for text in brth_sent_text])\n",
    "brth_lens = np.array([len(text) for text in brth_text])\n",
    "lens = np.array([len(text) for text in text])\n",
    "\n",
    "print('Length of utterancess with breath tokenziation')\n",
    "plt.hist(brth_lens)\n",
    "plt.show()\n",
    "print('average len:',np.mean(brth_lens))\n",
    "print('median len:',np.median(brth_lens))\n",
    "print('max len:',np.max(brth_lens))\n",
    "print()\n",
    "print()\n",
    "print('Length of utterances with punctuation + breath tokenziation')\n",
    "plt.hist(lens)\n",
    "plt.show()\n",
    "print('average len:',np.mean(lens))\n",
    "print('median len:',np.median(lens))\n",
    "print('max len:',np.max(lens))\n",
    "print()\n",
    "print()\n",
    "print('Length of utterances with punctuation OR breath tokenziation')\n",
    "plt.hist(brth_sent_lens)\n",
    "plt.show()\n",
    "print('average len:',np.mean(brth_sent_lens))\n",
    "print('median len:',np.median(brth_sent_lens))\n",
    "print('max len:',np.max(brth_sent_lens))\n",
    "\n"
   ]
  },
  {
   "cell_type": "code",
   "execution_count": 20,
   "metadata": {},
   "outputs": [
    {
     "data": {
      "text/plain": [
       "0.7928730512249443"
      ]
     },
     "execution_count": 20,
     "metadata": {},
     "output_type": "execute_result"
    }
   ],
   "source": [
    "brth_frames = [((float(key.split('-')[2])-float(key.split('-')[1]))*100)-2 for key in df[0].tolist()]\n",
    "brth_frames = np.array(brth_frames)\n",
    "np.sum(brth_frames<=1000)/brth_frames.shape[0] "
   ]
  },
  {
   "cell_type": "markdown",
   "metadata": {},
   "source": [
    "Check that all lengths match up"
   ]
  },
  {
   "cell_type": "code",
   "execution_count": 6,
   "metadata": {},
   "outputs": [],
   "source": [
    "ids = brth_sent_df[0].tolist()\n",
    "texts = brth_sent_df[1].tolist()\n",
    "labels = brth_sent_df[2].tolist()\n",
    "text_len = [len(line.split()) for line in texts]\n",
    "label_len = [len(line.split()) for line in labels]"
   ]
  },
  {
   "cell_type": "code",
   "execution_count": 7,
   "metadata": {},
   "outputs": [],
   "source": [
    "for i in range(len(text_len)):\n",
    "    if not text_len[i]==label_len[i]:\n",
    "        print(ids[i])\n",
    "        print(texts[i])\n",
    "        print(labels[i])\n",
    "        break"
   ]
  },
  {
   "cell_type": "markdown",
   "metadata": {},
   "source": [
    "If nothing prints here, everything matched!"
   ]
  },
  {
   "cell_type": "markdown",
   "metadata": {},
   "source": [
    "### Find vocab size from spans file"
   ]
  },
  {
   "cell_type": "code",
   "execution_count": 8,
   "metadata": {},
   "outputs": [
    {
     "data": {
      "text/plain": [
       "4128"
      ]
     },
     "execution_count": 8,
     "metadata": {},
     "output_type": "execute_result"
    }
   ],
   "source": [
    "spansfile = 'data/burnc/spans'\n",
    "spans_df = pd.read_csv(spansfile,sep='\\t',header=None)\n",
    "texts = spans_df[0].tolist()\n",
    "vocab = set()\n",
    "for text in texts:\n",
    "    wd1,wd2,wd3 = text.split()\n",
    "    vocab.add(wd1)\n",
    "    vocab.add(wd2)\n",
    "    vocab.add(wd3)\n",
    "len(vocab)"
   ]
  },
  {
   "cell_type": "code",
   "execution_count": 9,
   "metadata": {},
   "outputs": [
    {
     "ename": "SyntaxError",
     "evalue": "invalid syntax (<ipython-input-9-f73ee080cfb5>, line 1)",
     "output_type": "error",
     "traceback": [
      "\u001b[0;36m  File \u001b[0;32m\"<ipython-input-9-f73ee080cfb5>\"\u001b[0;36m, line \u001b[0;32m1\u001b[0m\n\u001b[0;31m    ~\u001b[0m\n\u001b[0m     ^\u001b[0m\n\u001b[0;31mSyntaxError\u001b[0m\u001b[0;31m:\u001b[0m invalid syntax\n"
     ]
    }
   ],
   "source": [
    "~"
   ]
  },
  {
   "cell_type": "code",
   "execution_count": null,
   "metadata": {},
   "outputs": [],
   "source": []
  }
 ],
 "metadata": {
  "kernelspec": {
   "display_name": "Python 3",
   "language": "python",
   "name": "python3"
  },
  "language_info": {
   "codemirror_mode": {
    "name": "ipython",
    "version": 3
   },
   "file_extension": ".py",
   "mimetype": "text/x-python",
   "name": "python",
   "nbconvert_exporter": "python",
   "pygments_lexer": "ipython3",
   "version": "3.7.4"
  }
 },
 "nbformat": 4,
 "nbformat_minor": 2
}
