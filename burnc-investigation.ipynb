{
 "cells": [
  {
   "cell_type": "markdown",
   "metadata": {},
   "source": [
    "Investigate the average length of utterances in BURNC with various segmentation techniques"
   ]
  },
  {
   "cell_type": "code",
   "execution_count": 49,
   "metadata": {},
   "outputs": [],
   "source": [
    "import pandas as pd\n",
    "import matplotlib.pyplot as plt\n",
    "import math\n",
    "import numpy as np"
   ]
  },
  {
   "cell_type": "code",
   "execution_count": 50,
   "metadata": {},
   "outputs": [],
   "source": [
    "brthsentfile = 'data/burnc/text2labels_breath_sent'\n",
    "brthfile = 'data/burnc/text2labels_breath_tok'\n",
    "datafile = 'data/burnc/text2labels'"
   ]
  },
  {
   "cell_type": "code",
   "execution_count": 51,
   "metadata": {},
   "outputs": [],
   "source": [
    "brth_sent_df = pd.read_csv(brthsentfile,sep='\\t',header=None)\n",
    "brth_df = pd.read_csv(brthfile,sep='\\t',header=None)\n",
    "df = pd.read_csv(datafile,sep='\\t',header=None)"
   ]
  },
  {
   "cell_type": "code",
   "execution_count": 52,
   "metadata": {},
   "outputs": [],
   "source": [
    "brth_sent_text = [line.split() for line in brth_sent_df[1].tolist()]\n",
    "brth_text = [line.split() for line in brth_df[1].tolist()]\n",
    "text = [line.split() for line in df[1].tolist()]"
   ]
  },
  {
   "cell_type": "code",
   "execution_count": 63,
   "metadata": {
    "scrolled": true
   },
   "outputs": [
    {
     "name": "stdout",
     "output_type": "stream",
     "text": [
      "Length of utterancess with breath tokenziation\n"
     ]
    },
    {
     "data": {
      "image/png": "[encoded data removed]",
      "text/plain": [
       "<Figure size 432x288 with 1 Axes>"
      ]
     },
     "metadata": {
      "needs_background": "light"
     },
     "output_type": "display_data"
    },
    {
     "name": "stdout",
     "output_type": "stream",
     "text": [
      "average len: 17.333709131905298\n",
      "median len: 15.0\n",
      "max len: 124\n",
      "\n",
      "\n",
      "Length of utterances with punctuation + breath tokenziation\n"
     ]
    },
    {
     "data": {
      "image/png": "[encoded data removed]",
      "text/plain": [
       "<Figure size 432x288 with 1 Axes>"
      ]
     },
     "metadata": {
      "needs_background": "light"
     },
     "output_type": "display_data"
    },
    {
     "name": "stdout",
     "output_type": "stream",
     "text": [
      "average len: 22.027220630372494\n",
      "median len: 20.0\n",
      "max len: 168\n",
      "Length of utterances with punctuation OR breath tokenziation\n"
     ]
    },
    {
     "data": {
      "image/png": "[encoded data removed]",
      "text/plain": [
       "<Figure size 432x288 with 1 Axes>"
      ]
     },
     "metadata": {
      "needs_background": "light"
     },
     "output_type": "display_data"
    },
    {
     "name": "stdout",
     "output_type": "stream",
     "text": [
      "average len: 11.660978384527873\n",
      "median len: 11.0\n",
      "max len: 51\n"
     ]
    }
   ],
   "source": [
    "brth_sent_lens = np.array([len(text) for text in brth_sent_text])\n",
    "brth_lens = np.array([len(text) for text in brth_text])\n",
    "lens = np.array([len(text) for text in text])\n",
    "\n",
    "print('Length of utterancess with breath tokenziation')\n",
    "plt.hist(brth_lens)\n",
    "plt.show()\n",
    "print('average len:',np.mean(brth_lens))\n",
    "print('median len:',np.median(brth_lens))\n",
    "print('max len:',np.max(brth_lens))\n",
    "print()\n",
    "print()\n",
    "print('Length of utterances with punctuation + breath tokenziation')\n",
    "plt.hist(lens)\n",
    "plt.show()\n",
    "print('average len:',np.mean(lens))\n",
    "print('median len:',np.median(lens))\n",
    "print('max len:',np.max(lens))\n",
    "print('Length of utterances with punctuation OR breath tokenziation')\n",
    "plt.hist(brth_sent_lens)\n",
    "plt.show()\n",
    "print('average len:',np.mean(brth_sent_lens))\n",
    "print('median len:',np.median(brth_sent_lens))\n",
    "print('max len:',np.max(brth_sent_lens))\n",
    "\n"
   ]
  },
  {
   "cell_type": "markdown",
   "metadata": {},
   "source": [
    "Check that all lengths match up"
   ]
  },
  {
   "cell_type": "code",
   "execution_count": 58,
   "metadata": {},
   "outputs": [],
   "source": [
    "ids = brth_sent_df[0].tolist()\n",
    "texts = brth_sent_df[1].tolist()\n",
    "labels = brth_sent_df[2].tolist()\n",
    "text_len = [len(line.split()) for line in texts]\n",
    "label_len = [len(line.split()) for line in labels]"
   ]
  },
  {
   "cell_type": "code",
   "execution_count": 59,
   "metadata": {},
   "outputs": [],
   "source": [
    "for i in range(len(text_len)):\n",
    "    if not text_len[i]==label_len[i]:\n",
    "        print(ids[i])\n",
    "        print(texts[i])\n",
    "        print(labels[i])\n",
    "        break"
   ]
  },
  {
   "cell_type": "markdown",
   "metadata": {},
   "source": [
    "If nothing prints here, everything matched!"
   ]
  },
  {
   "cell_type": "code",
   "execution_count": null,
   "metadata": {},
   "outputs": [],
   "source": []
  }
 ],
 "metadata": {
  "kernelspec": {
   "display_name": "Python 3",
   "language": "python",
   "name": "python3"
  },
  "language_info": {
   "codemirror_mode": {
    "name": "ipython",
    "version": 3
   },
   "file_extension": ".py",
   "mimetype": "text/x-python",
   "name": "python",
   "nbconvert_exporter": "python",
   "pygments_lexer": "ipython3",
   "version": "3.7.4"
  }
 },
 "nbformat": 4,
 "nbformat_minor": 2
}
